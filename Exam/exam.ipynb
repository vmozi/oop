{
 "cells": [
  {
   "cell_type": "markdown",
   "metadata": {},
   "source": [
    "Створити клас з двома атрибутами, один стрічковий, другий int"
   ]
  },
  {
   "cell_type": "code",
   "execution_count": 2,
   "metadata": {},
   "outputs": [
    {
     "name": "stdout",
     "output_type": "stream",
     "text": [
      "Привіт, світ!\n",
      "42\n",
      "Text: Привіт, світ!, Number: 42\n"
     ]
    }
   ],
   "source": [
    "class MyClass:\n",
    "    def __init__(self, text: str, number: int):\n",
    "        \"\"\"\n",
    "        Ініціалізатор класу.\n",
    "        :param text: Рядковий атрибут.\n",
    "        :param number: Цілий атрибут.\n",
    "        \"\"\"\n",
    "        self.text = text  # Рядковий атрибут\n",
    "        self.number = number  # Цілий атрибут\n",
    "\n",
    "    def display(self):\n",
    "        \"\"\"Метод для виведення атрибутів.\"\"\"\n",
    "        return f\"Text: {self.text}, Number: {self.number}\"\n",
    "\n",
    "\n",
    "# Створення об'єкта класу\n",
    "example = MyClass(\"Привіт, світ!\", 42)\n",
    "\n",
    "# Використання атрибутів\n",
    "print(example.text)  # Виведе: Привіт, світ!\n",
    "print(example.number)  # Виведе: 42\n",
    "\n",
    "# Виклик методу\n",
    "print(example.display())  # Виведе: Text: Привіт, світ!, Number: 42\n"
   ]
  }
 ],
 "metadata": {
  "kernelspec": {
   "display_name": "Python 3",
   "language": "python",
   "name": "python3"
  },
  "language_info": {
   "codemirror_mode": {
    "name": "ipython",
    "version": 3
   },
   "file_extension": ".py",
   "mimetype": "text/x-python",
   "name": "python",
   "nbconvert_exporter": "python",
   "pygments_lexer": "ipython3",
   "version": "3.13.0"
  }
 },
 "nbformat": 4,
 "nbformat_minor": 2
}
