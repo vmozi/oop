{
 "cells": [
  {
   "cell_type": "code",
   "execution_count": 1,
   "metadata": {},
   "outputs": [
    {
     "name": "stdout",
     "output_type": "stream",
     "text": [
      "18\n"
     ]
    }
   ],
   "source": [
    "a = 9\n",
    "b = 9\n",
    "C = a + b\n",
    "print(C)"
   ]
  },
  {
   "cell_type": "code",
   "execution_count": 2,
   "metadata": {},
   "outputs": [
    {
     "name": "stdout",
     "output_type": "stream",
     "text": [
      "Значення:  True\n",
      "Вивід True\n"
     ]
    }
   ],
   "source": [
    "print(\"Значення: \", True)\n",
    "print(f\"Вивід {True}\")"
   ]
  },
  {
   "cell_type": "code",
   "execution_count": 3,
   "metadata": {},
   "outputs": [
    {
     "name": "stdout",
     "output_type": "stream",
     "text": [
      "14 є рівними 14\n",
      "8 різні значення 83\n"
     ]
    }
   ],
   "source": [
    "print(abs(-14), f\"є рівними {abs(14)}\")\n",
    "print(abs(8), f\"різні значення {abs(83)}\")"
   ]
  },
  {
   "cell_type": "code",
   "execution_count": 4,
   "metadata": {},
   "outputs": [
    {
     "name": "stdout",
     "output_type": "stream",
     "text": [
      "На позиції 0 знаходиться буква р\n",
      "На позиції 1 знаходиться буква я\n",
      "На позиції 2 знаходиться буква ї\n"
     ]
    }
   ],
   "source": [
    "letters = [\"р\", \"я\", \"ї\"]\n",
    "for i in range(len(letters)):\n",
    "    print(f\"На позиції {i} знаходиться буква {letters[i]}\")"
   ]
  },
  {
   "cell_type": "code",
   "execution_count": 5,
   "metadata": {},
   "outputs": [
    {
     "name": "stdout",
     "output_type": "stream",
     "text": [
      "Значить А=True\n"
     ]
    }
   ],
   "source": [
    "A = True\n",
    "print(\"Значить А=True\" if A else \"Значить А=False\")"
   ]
  },
  {
   "cell_type": "code",
   "execution_count": 6,
   "metadata": {},
   "outputs": [
    {
     "name": "stdout",
     "output_type": "stream",
     "text": [
      "division by zero\n",
      "А вот воно що!\n"
     ]
    }
   ],
   "source": [
    "A = 0\n",
    "try:\n",
    "    print(\"Що буде якщо\", 76/A, \"?\")\n",
    "except Exception as e:\n",
    "    print(e)\n",
    "finally:\n",
    "    print(\"А вот воно що!\")"
   ]
  },
  {
   "cell_type": "code",
   "execution_count": 7,
   "metadata": {},
   "outputs": [
    {
     "name": "stdout",
     "output_type": "stream",
     "text": [
      "# Звіт до другої лабораторної\n",
      "\n",
      "## Тема: Основи *Python*\n",
      "\n",
      "\n",
      "\n",
      "## Виконані завдання\n",
      "\n",
      "\n",
      "\n",
      "1. Типи даних: Створено змінні основних типів, таких як рядок (str), ціле число (int), число з плаваючою точкою (float), список (list), словник (dict), кортеж (tuple) і множина (set). Ці типи забезпечують можливість зберігати різну інформацію та надають специфічні можливості для роботи з даними.\n",
      "\n",
      "\n",
      "\n",
      "2. Вбудовані константи: Для демонстрації використання констант у Python було виведено значення True, None та False.\n",
      "\n",
      "\n",
      "\n",
      "3. Вбудовані функції: Продемонстровано застосування кількох вбудованих функцій Python, зокрема abs() для знаходження модуля, max() для отримання найбільшого значення в колекції та len() для визначення довжини рядка.\n",
      "\n",
      "\n",
      "\n",
      "4. Цикли: Використано цикл for для перебору елементів списку та while для виконання умовних повторень.\n",
      "\n",
      "\n",
      "\n",
      "5. Умовні конструкції: Використано оператори if, elif та else для реалізації логічного розгалуження залежно від умов.\n",
      "\n",
      "\n",
      "\n",
      "6. Обробка помилок: Застосовано конструкцію try-except-finally для обробки можливих виключень, що дозволяє керувати помилками під час виконання та забезпечує виконання завершальних дій, незалежно від наявності помилок.\n",
      "\n",
      "\n",
      "\n",
      "7. Контекстний менеджер: Використано конструкцію with для безпечного відкриття файлу, що гарантує автоматичне закриття файлу після завершення роботи з ним.\n",
      "\n",
      "\n",
      "\n",
      "8. Лямбда-функції: Створено і застосовано лямбда-функцію для демонстрації її можливостей у Python. Лямбда-функції дозволяють створювати короткі, анонімні функції, які зручно використовувати для одноразових обчислень.\n"
     ]
    }
   ],
   "source": [
    "with open(\"README.md\", \"r\", encoding=\"(utf-8)\") as f:\n",
    "    for line in f:\n",
    "        print(line)"
   ]
  },
  {
   "cell_type": "code",
   "execution_count": 8,
   "metadata": {},
   "outputs": [
    {
     "name": "stdout",
     "output_type": "stream",
     "text": [
      "Проста функція: <function <lambda> at 0x0000017CC8112480>\n",
      "Це її виклик: Цей код написав: Значення Текст\n"
     ]
    }
   ],
   "source": [
    "this_is_lambda = lambda first, last: f'Цей код написав: {first} {last}'\n",
    "print(\"Проста функція:\", this_is_lambda)\n",
    "print(\"Це її виклик:\", this_is_lambda('Значення', 'Текст'))"
   ]
  }
 ],
 "metadata": {
  "kernelspec": {
   "display_name": "Python 3",
   "language": "python",
   "name": "python3"
  },
  "language_info": {
   "codemirror_mode": {
    "name": "ipython",
    "version": 3
   },
   "file_extension": ".py",
   "mimetype": "text/x-python",
   "name": "python",
   "nbconvert_exporter": "python",
   "pygments_lexer": "ipython3",
   "version": "3.13.0"
  }
 },
 "nbformat": 4,
 "nbformat_minor": 2
}
